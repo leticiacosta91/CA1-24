{
 "cells": [
  {
   "cell_type": "code",
   "execution_count": 1,
   "id": "7f8abf56-f675-4361-bbdd-43bca97e91bc",
   "metadata": {},
   "outputs": [
    {
     "name": "stderr",
     "output_type": "stream",
     "text": [
      "2024-03-19 09:31:52,010 WARN util.Utils: Your hostname, BDS-2023 resolves to a loopback address: 127.0.1.1; using 10.0.2.15 instead (on interface enp0s3)\n",
      "2024-03-19 09:31:52,050 WARN util.Utils: Set SPARK_LOCAL_IP if you need to bind to another address\n",
      "Setting default log level to \"WARN\".\n",
      "To adjust logging level use sc.setLogLevel(newLevel). For SparkR, use setLogLevel(newLevel).\n",
      "2024-03-19 09:32:16,279 WARN util.NativeCodeLoader: Unable to load native-hadoop library for your platform... using builtin-java classes where applicable\n"
     ]
    }
   ],
   "source": [
    "#import modules\n",
    "from pyspark.sql import SparkSession\n",
    "from pyspark.sql.types import *\n",
    "from pyspark.sql.functions import *\n",
    "from pyspark.ml.classification import LogisticRegression\n",
    "from pyspark.ml.feature import VectorAssembler\n",
    "\n",
    "#create Spark session\n",
    "appName = \"Classification in Spark\"\n",
    "spark = SparkSession \\\n",
    "    .builder \\\n",
    "    .appName(appName) \\\n",
    "    .config(\"spark.some.config.option\", \"some-value\") \\\n",
    "    .getOrCreate()"
   ]
  },
  {
   "cell_type": "code",
   "execution_count": 7,
   "id": "ff59c5b6-1b11-4e76-b0bd-1a0c6ac62246",
   "metadata": {},
   "outputs": [
    {
     "name": "stderr",
     "output_type": "stream",
     "text": [
      "                                                                                \r"
     ]
    },
    {
     "name": "stdout",
     "output_type": "stream",
     "text": [
      "+----------+---------+-------+---------------+-------------+--------+--------+\n",
      "|DayofMonth|DayOfWeek|Carrier|OriginAirportID|DestAirportID|DepDelay|ArrDelay|\n",
      "+----------+---------+-------+---------------+-------------+--------+--------+\n",
      "|        19|        5|     DL|          11433|        13303|      -3|       1|\n",
      "|        19|        5|     DL|          14869|        12478|       0|      -8|\n",
      "|        19|        5|     DL|          14057|        14869|      -4|     -15|\n",
      "+----------+---------+-------+---------------+-------------+--------+--------+\n",
      "only showing top 3 rows\n",
      "\n"
     ]
    }
   ],
   "source": [
    "from pyspark.sql.types import StructType, StructField, IntegerType, StringType\n",
    "\n",
    "# Define nosso esquema\n",
    "flightSchema = StructType([\n",
    "  StructField(\"DayofMonth\", IntegerType(), False),\n",
    "  StructField(\"DayOfWeek\", IntegerType(), False),\n",
    "  StructField(\"Carrier\", StringType(), False),\n",
    "  StructField(\"OriginAirportID\", IntegerType(), False),\n",
    "  StructField(\"DestAirportID\", IntegerType(), False),\n",
    "  StructField(\"DepDelay\", IntegerType(), False),\n",
    "  StructField(\"ArrDelay\", IntegerType(), False),\n",
    "])\n",
    "\n",
    "# Leia os dados do CSV com nosso esquema definido\n",
    "# Atualize o caminho conforme o caminho correto no HDFS\n",
    "caminho_no_hdfs = 'hdfs:///user/hduser/dataset/flights.csv'  # Ajuste conforme a necessidade\n",
    "flightDataFrame = spark.read.csv(caminho_no_hdfs, schema=flightSchema, header=True)\n",
    "\n",
    "# Exibe as primeiras 3 linhas\n",
    "flightDataFrame.show(3)\n"
   ]
  },
  {
   "cell_type": "code",
   "execution_count": 10,
   "id": "7aa91900-f62b-456e-93b2-2f2ec42b5894",
   "metadata": {},
   "outputs": [
    {
     "name": "stderr",
     "output_type": "stream",
     "text": [
      "                                                                                \r"
     ]
    },
    {
     "name": "stdout",
     "output_type": "stream",
     "text": [
      "+----------+---------+---------------+-------------+--------+----+\n",
      "|DayofMonth|DayOfWeek|OriginAirportID|DestAirportID|DepDelay|Late|\n",
      "+----------+---------+---------------+-------------+--------+----+\n",
      "|        19|        5|          11433|        13303|      -3|   0|\n",
      "|        19|        5|          14869|        12478|       0|   0|\n",
      "|        19|        5|          14057|        14869|      -4|   0|\n",
      "+----------+---------+---------------+-------------+--------+----+\n",
      "only showing top 3 rows\n",
      "\n"
     ]
    }
   ],
   "source": [
    "from pyspark.sql.functions import col\n",
    "\n",
    "# Substitua `csv` por `flightDataFrame`, assumindo que `flightDataFrame` é o seu DataFrame carregado\n",
    "data = flightDataFrame.select(\n",
    "    \"DayofMonth\", \"DayOfWeek\", \"OriginAirportID\", \"DestAirportID\", \n",
    "    \"DepDelay\", ((col(\"ArrDelay\") > 15).cast(\"Integer\").alias(\"Late\"))\n",
    ")\n",
    "data.show(3)\n"
   ]
  },
  {
   "cell_type": "code",
   "execution_count": 11,
   "id": "ef746183-d639-49a1-ab85-baff4ae1633e",
   "metadata": {},
   "outputs": [
    {
     "name": "stderr",
     "output_type": "stream",
     "text": [
      "                                                                                \r"
     ]
    },
    {
     "name": "stdout",
     "output_type": "stream",
     "text": [
      "Training data rows: 1890699 ; Testing data rows: 811519\n"
     ]
    }
   ],
   "source": [
    "#divide data, 70% for training, 30% for testing\n",
    "dividedData = data.randomSplit([0.7, 0.3]) \n",
    "trainingData = dividedData[0] #index 0 = data training\n",
    "testingData = dividedData[1] #index 1 = data testing\n",
    "train_rows = trainingData.count()\n",
    "test_rows = testingData.count()\n",
    "print (\"Training data rows:\", train_rows, \"; Testing data rows:\", test_rows)"
   ]
  },
  {
   "cell_type": "code",
   "execution_count": 12,
   "id": "ec3cf61b-df15-4e17-8202-3cbaf5410415",
   "metadata": {},
   "outputs": [
    {
     "name": "stderr",
     "output_type": "stream",
     "text": [
      "                                                                                \r"
     ]
    },
    {
     "name": "stdout",
     "output_type": "stream",
     "text": [
      "+------------------------------+-----+\n",
      "|features                      |label|\n",
      "+------------------------------+-----+\n",
      "|[1.0,1.0,10140.0,10397.0,-4.0]|0    |\n",
      "|[1.0,1.0,10140.0,10821.0,8.0] |0    |\n",
      "+------------------------------+-----+\n",
      "only showing top 2 rows\n",
      "\n"
     ]
    }
   ],
   "source": [
    "#define an assembler\n",
    "assembler = VectorAssembler(inputCols = [\n",
    "    \"DayofMonth\", \"DayOfWeek\", \"OriginAirportID\", \"DestAirportID\", \n",
    "    \"DepDelay\"], outputCol=\"features\")\n",
    "trainingDataFinal = assembler.transform(\n",
    "    trainingData).select(col(\"features\"), col(\"Late\").alias(\"label\"))\n",
    "trainingDataFinal.show(truncate=False, n=2)"
   ]
  },
  {
   "cell_type": "code",
   "execution_count": 13,
   "id": "cc0b9ce4-d153-4c3c-af66-b02a160e6cb2",
   "metadata": {},
   "outputs": [
    {
     "name": "stderr",
     "output_type": "stream",
     "text": [
      "                                                                                \r"
     ]
    },
    {
     "name": "stdout",
     "output_type": "stream",
     "text": [
      "Classifier model is trained!\n"
     ]
    }
   ],
   "source": [
    "#define our classifier\n",
    "classifier = LogisticRegression(\n",
    "    labelCol=\"label\",featuresCol=\"features\",maxIter=10,regParam=0.3)\n",
    "#train our classifier\n",
    "model = classifier.fit(trainingDataFinal)\n",
    "print (\"Classifier model is trained!\")"
   ]
  },
  {
   "cell_type": "code",
   "execution_count": 14,
   "id": "becddc99-2651-4b71-80cc-eb2d9475f350",
   "metadata": {},
   "outputs": [
    {
     "name": "stderr",
     "output_type": "stream",
     "text": [
      "[Stage 29:>                                                         (0 + 1) / 1]\r"
     ]
    },
    {
     "name": "stdout",
     "output_type": "stream",
     "text": [
      "+--------------------+---------+\n",
      "|            features|trueLabel|\n",
      "+--------------------+---------+\n",
      "|[1.0,1.0,10140.0,...|        0|\n",
      "|[1.0,1.0,10140.0,...|        0|\n",
      "|[1.0,1.0,10140.0,...|        0|\n",
      "+--------------------+---------+\n",
      "only showing top 3 rows\n",
      "\n"
     ]
    },
    {
     "name": "stderr",
     "output_type": "stream",
     "text": [
      "                                                                                \r"
     ]
    }
   ],
   "source": [
    "testingDataFinal = assembler.transform(\n",
    "    testingData).select(col(\"features\"), col(\"Late\").alias(\"trueLabel\"))\n",
    "testingDataFinal.show(3)"
   ]
  },
  {
   "cell_type": "code",
   "execution_count": 15,
   "id": "80478b36-7a89-4a61-b31d-b7624252a0a9",
   "metadata": {},
   "outputs": [
    {
     "name": "stderr",
     "output_type": "stream",
     "text": [
      "                                                                                \r"
     ]
    },
    {
     "name": "stdout",
     "output_type": "stream",
     "text": [
      "+------------------------------+----------+----------------------------------------+---------+\n",
      "|features                      |prediction|probability                             |trueLabel|\n",
      "+------------------------------+----------+----------------------------------------+---------+\n",
      "|[1.0,1.0,10140.0,10397.0,-2.0]|0.0       |[0.8291991375897401,0.17080086241025993]|0        |\n",
      "|[1.0,1.0,10140.0,11259.0,-2.0]|0.0       |[0.8292782877184747,0.17072171228152533]|0        |\n",
      "|[1.0,1.0,10140.0,11259.0,-1.0]|0.0       |[0.8272920742950405,0.17270792570495952]|0        |\n",
      "+------------------------------+----------+----------------------------------------+---------+\n",
      "only showing top 3 rows\n",
      "\n"
     ]
    },
    {
     "name": "stderr",
     "output_type": "stream",
     "text": [
      "                                                                                \r"
     ]
    },
    {
     "name": "stdout",
     "output_type": "stream",
     "text": [
      "+------------------------------+---------+----------------------------------------+----------------------------------------+----------+\n",
      "|features                      |trueLabel|rawPrediction                           |probability                             |prediction|\n",
      "+------------------------------+---------+----------------------------------------+----------------------------------------+----------+\n",
      "|[1.0,1.0,10140.0,10397.0,-2.0]|0        |[1.5799620099279985,-1.5799620099279985]|[0.8291991375897401,0.17080086241025993]|0.0       |\n",
      "|[1.0,1.0,10140.0,11259.0,-2.0]|0        |[1.5805209723899332,-1.5805209723899332]|[0.8292782877184747,0.17072171228152533]|0.0       |\n",
      "|[1.0,1.0,10140.0,11259.0,-1.0]|0        |[1.566555928937473,-1.566555928937473]  |[0.8272920742950405,0.17270792570495952]|0.0       |\n",
      "+------------------------------+---------+----------------------------------------+----------------------------------------+----------+\n",
      "only showing top 3 rows\n",
      "\n"
     ]
    }
   ],
   "source": [
    "prediction = model.transform(testingDataFinal)\n",
    "predictionFinal = prediction.select(\n",
    "    \"features\", \"prediction\", \"probability\", \"trueLabel\")\n",
    "predictionFinal.show(truncate=False, n=3)\n",
    "prediction.show(truncate=False, n=3)"
   ]
  },
  {
   "cell_type": "code",
   "execution_count": 16,
   "id": "cd6c5efb-a70a-4970-9bcd-d78d55f11e72",
   "metadata": {},
   "outputs": [
    {
     "name": "stderr",
     "output_type": "stream",
     "text": [
      "[Stage 35:========================================================(10 + 0) / 10]\r"
     ]
    },
    {
     "name": "stdout",
     "output_type": "stream",
     "text": [
      "correct prediction: 669341 , total data: 811519 , accuracy: 0.8248001587147066\n"
     ]
    },
    {
     "name": "stderr",
     "output_type": "stream",
     "text": [
      "                                                                                \r"
     ]
    }
   ],
   "source": [
    "correctPrediction = predictionFinal.filter(\n",
    "    predictionFinal['prediction'] == predictionFinal['trueLabel']).count()\n",
    "totalData = predictionFinal.count()\n",
    "print(\"correct prediction:\", correctPrediction, \", total data:\", totalData, \n",
    "      \", accuracy:\", correctPrediction/totalData)"
   ]
  },
  {
   "cell_type": "code",
   "execution_count": 17,
   "id": "dbadc873-3ef4-4951-ae02-0bd08849d695",
   "metadata": {},
   "outputs": [
    {
     "name": "stderr",
     "output_type": "stream",
     "text": [
      "2024-03-19 11:11:12,658 WARN memory.MemoryStore: Not enough space to cache rdd_151_5 in memory! (computed 19.7 MiB so far)\n",
      "2024-03-19 11:11:12,867 WARN memory.MemoryStore: Not enough space to cache rdd_151_0 in memory! (computed 12.7 MiB so far)\n",
      "2024-03-19 11:11:13,705 WARN memory.MemoryStore: Not enough space to cache rdd_151_7 in memory! (computed 19.7 MiB so far)\n",
      "2024-03-19 11:11:13,785 WARN memory.MemoryStore: Not enough space to cache rdd_151_3 in memory! (computed 19.7 MiB so far)\n",
      "2024-03-19 11:11:13,803 WARN memory.MemoryStore: Not enough space to cache rdd_151_6 in memory! (computed 12.7 MiB so far)\n",
      "2024-03-19 11:11:13,806 WARN storage.BlockManager: Persisting block rdd_151_7 to disk instead.\n",
      "2024-03-19 11:11:13,816 WARN storage.BlockManager: Persisting block rdd_151_3 to disk instead.\n",
      "2024-03-19 11:11:13,827 WARN storage.BlockManager: Persisting block rdd_151_0 to disk instead.\n",
      "2024-03-19 11:11:13,826 WARN storage.BlockManager: Persisting block rdd_151_5 to disk instead.\n",
      "2024-03-19 11:11:14,322 WARN memory.MemoryStore: Not enough space to cache rdd_151_1 in memory! (computed 5.5 MiB so far)\n",
      "2024-03-19 11:11:15,511 WARN memory.MemoryStore: Not enough space to cache rdd_151_2 in memory! (computed 8.3 MiB so far)\n",
      "2024-03-19 11:11:15,539 WARN storage.BlockManager: Persisting block rdd_151_2 to disk instead.\n",
      "2024-03-19 11:11:15,679 WARN memory.MemoryStore: Not enough space to cache rdd_151_8 in memory! (computed 3.7 MiB so far)\n",
      "2024-03-19 11:11:15,700 WARN storage.BlockManager: Persisting block rdd_151_8 to disk instead.\n",
      "2024-03-19 11:11:17,003 WARN storage.BlockManager: Persisting block rdd_151_1 to disk instead.\n",
      "2024-03-19 11:11:17,274 WARN memory.MemoryStore: Not enough space to cache rdd_151_4 in memory! (computed 19.7 MiB so far)\n",
      "2024-03-19 11:11:17,274 WARN storage.BlockManager: Persisting block rdd_151_4 to disk instead.\n",
      "2024-03-19 11:11:17,461 WARN storage.BlockManager: Persisting block rdd_151_6 to disk instead.\n",
      "                                                                                \r"
     ]
    },
    {
     "name": "stdout",
     "output_type": "stream",
     "text": [
      "Model is trained!\n"
     ]
    }
   ],
   "source": [
    "from pyspark.ml.classification import RandomForestClassifier\n",
    "\n",
    "model2 = RandomForestClassifier(\n",
    "    numTrees=3, maxDepth=5, seed=42, labelCol=\"label\",featuresCol=\"features\")\n",
    "model2 = model2.fit(trainingDataFinal)\n",
    "print (\"Model is trained!\")"
   ]
  },
  {
   "cell_type": "code",
   "execution_count": 18,
   "id": "bf13a343-ebc4-45ce-a187-3f4286fddcfb",
   "metadata": {},
   "outputs": [
    {
     "name": "stderr",
     "output_type": "stream",
     "text": [
      "                                                                                \r"
     ]
    },
    {
     "name": "stdout",
     "output_type": "stream",
     "text": [
      "+------------------------------+----------+----------------------------------------+---------+\n",
      "|features                      |prediction|probability                             |trueLabel|\n",
      "+------------------------------+----------+----------------------------------------+---------+\n",
      "|[1.0,1.0,10140.0,10397.0,-2.0]|0.0       |[0.9302961833555337,0.06970381664446638]|0        |\n",
      "|[1.0,1.0,10140.0,11259.0,-2.0]|0.0       |[0.9302961833555337,0.06970381664446638]|0        |\n",
      "|[1.0,1.0,10140.0,11259.0,-1.0]|0.0       |[0.9302961833555337,0.06970381664446638]|0        |\n",
      "+------------------------------+----------+----------------------------------------+---------+\n",
      "only showing top 3 rows\n",
      "\n"
     ]
    },
    {
     "name": "stderr",
     "output_type": "stream",
     "text": [
      "[Stage 61:>                                                         (0 + 0) / 1]\r"
     ]
    },
    {
     "name": "stdout",
     "output_type": "stream",
     "text": [
      "correct prediction: 752020 , total data: 811519 , accuracy 0.9266819384389029\n"
     ]
    },
    {
     "name": "stderr",
     "output_type": "stream",
     "text": [
      "                                                                                \r"
     ]
    }
   ],
   "source": [
    "prediction = model2.transform(testingDataFinal)\n",
    "predictionFinal = prediction.select(\n",
    "    \"features\", \"prediction\", \"probability\", \"trueLabel\")\n",
    "predictionFinal.show(truncate=False, n=3)\n",
    "correctPrediction = predictionFinal.filter(\n",
    "    predictionFinal['prediction'] == predictionFinal['trueLabel']).count()\n",
    "totalData = predictionFinal.count()\n",
    "print(\"correct prediction:\", correctPrediction, \", total data:\", \n",
    "      totalData, \", accuracy\", correctPrediction/totalData)"
   ]
  },
  {
   "cell_type": "code",
   "execution_count": null,
   "id": "f2c79c7f-7bcf-4a41-a1e5-3a010a229321",
   "metadata": {},
   "outputs": [],
   "source": []
  }
 ],
 "metadata": {
  "kernelspec": {
   "display_name": "Python 3 (ipykernel)",
   "language": "python",
   "name": "python3"
  },
  "language_info": {
   "codemirror_mode": {
    "name": "ipython",
    "version": 3
   },
   "file_extension": ".py",
   "mimetype": "text/x-python",
   "name": "python",
   "nbconvert_exporter": "python",
   "pygments_lexer": "ipython3",
   "version": "3.10.12"
  }
 },
 "nbformat": 4,
 "nbformat_minor": 5
}
