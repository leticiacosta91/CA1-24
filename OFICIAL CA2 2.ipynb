{
 "cells": [
  {
   "cell_type": "raw",
   "id": "b8f7b944",
   "metadata": {},
   "source": [
    "!pip install pyspark==3.2.3"
   ]
  },
  {
   "cell_type": "markdown",
   "id": "db9d0509",
   "metadata": {},
   "source": [
    "!pip install py4j==0.10.9.5"
   ]
  },
  {
   "cell_type": "code",
   "execution_count": 1,
   "id": "9349e755",
   "metadata": {},
   "outputs": [],
   "source": [
    "from pyspark.sql import SparkSession"
   ]
  },
  {
   "cell_type": "code",
   "execution_count": 2,
   "id": "fcdc9a7a",
   "metadata": {},
   "outputs": [
    {
     "name": "stderr",
     "output_type": "stream",
     "text": [
      "2023-05-11 12:28:29,753 WARN util.Utils: Your hostname, BDS-2023 resolves to a loopback address: 127.0.1.1; using 10.0.2.15 instead (on interface enp0s3)\n",
      "2023-05-11 12:28:29,758 WARN util.Utils: Set SPARK_LOCAL_IP if you need to bind to another address\n",
      "Setting default log level to \"WARN\".\n",
      "To adjust logging level use sc.setLogLevel(newLevel). For SparkR, use setLogLevel(newLevel).\n",
      "2023-05-11 12:28:31,786 WARN util.NativeCodeLoader: Unable to load native-hadoop library for your platform... using builtin-java classes where applicable\n"
     ]
    }
   ],
   "source": [
    "spark = SparkSession.builder.appName(\"App-Hadoop\").getOrCreate()"
   ]
  },
  {
   "cell_type": "code",
   "execution_count": 46,
   "id": "4211b2ed",
   "metadata": {},
   "outputs": [],
   "source": [
    "edaw =spark.read.option(\"multiline\", True) \\\n",
    "                .option(\"header\", True) \\\n",
    "                .option(\"delimiter\", \",\") \\\n",
    "                .csv('/CA2/EDAW.csv')#, inferSchema=True"
   ]
  },
  {
   "cell_type": "code",
   "execution_count": 47,
   "id": "f8d73598",
   "metadata": {},
   "outputs": [
    {
     "name": "stdout",
     "output_type": "stream",
     "text": [
      "+---+--------------------+-------------------+--------------------+-----------+---------------+--------------------+--------------------+------------+---------+---------+-------+\n",
      "|_c0|                Date|                 ID|                 url|   username|         source|            location|               tweet|num_of_likes|num_of_rt|followers|replies|\n",
      "+---+--------------------+-------------------+--------------------+-----------+---------------+--------------------+--------------------+------------+---------+---------+-------+\n",
      "|  0|2023-03-15 23:28:...|1636147315168927744|https://twitter.c...|HibaJebeile|Twitter Web App|Sydney, New South...|Grateful to be wo...|          19|        4|     1552|      1|\n",
      "|  1|2023-03-15 23:24:...|1636146382770966528|https://twitter.c...|Bfoundation|Twitter Web App|           Australia|In this #podcast ...|           1|        1|    36483|      0|\n",
      "|  2|2023-03-15 23:20:...|1636145465111752704|https://twitter.c...|   EdawIhap|Twitter Web App|                null|@JTRIII3 @_Andrew...|           1|        0|        1|      0|\n",
      "+---+--------------------+-------------------+--------------------+-----------+---------------+--------------------+--------------------+------------+---------+---------+-------+\n",
      "only showing top 3 rows\n",
      "\n"
     ]
    },
    {
     "name": "stderr",
     "output_type": "stream",
     "text": [
      "2023-05-11 13:28:29,530 WARN csv.CSVHeaderChecker: CSV header does not conform to the schema.\n",
      " Header: , Date, ID, url, username, source, location, tweet, num_of_likes, num_of_rt, followers, replies\n",
      " Schema: _c0, Date, ID, url, username, source, location, tweet, num_of_likes, num_of_rt, followers, replies\n",
      "Expected: _c0 but found: \n",
      "CSV file: hdfs://localhost:9000/CA2/EDAW.csv\n"
     ]
    }
   ],
   "source": [
    "edaw.show(n=3, truncate = True)\n"
   ]
  },
  {
   "cell_type": "code",
   "execution_count": 48,
   "id": "7f2ce173",
   "metadata": {},
   "outputs": [
    {
     "name": "stdout",
     "output_type": "stream",
     "text": [
      "root\n",
      " |-- _c0: string (nullable = true)\n",
      " |-- Date: string (nullable = true)\n",
      " |-- ID: string (nullable = true)\n",
      " |-- url: string (nullable = true)\n",
      " |-- username: string (nullable = true)\n",
      " |-- source: string (nullable = true)\n",
      " |-- location: string (nullable = true)\n",
      " |-- tweet: string (nullable = true)\n",
      " |-- num_of_likes: string (nullable = true)\n",
      " |-- num_of_rt: string (nullable = true)\n",
      " |-- followers: string (nullable = true)\n",
      " |-- replies: string (nullable = true)\n",
      "\n"
     ]
    }
   ],
   "source": [
    "edaw.printSchema()"
   ]
  },
  {
   "cell_type": "code",
   "execution_count": 49,
   "id": "bf529334",
   "metadata": {},
   "outputs": [
    {
     "name": "stderr",
     "output_type": "stream",
     "text": [
      "\r",
      "[Stage 46:>                                                         (0 + 1) / 1]\r"
     ]
    },
    {
     "name": "stdout",
     "output_type": "stream",
     "text": [
      "+-------+--------------------+--------------------+\n",
      "|summary|                Date|               tweet|\n",
      "+-------+--------------------+--------------------+\n",
      "|  count|              148360|              146415|\n",
      "|   mean|   3.749716231555051|   595.4285714285714|\n",
      "| stddev|   11.88790692179773|  1469.2620110595853|\n",
      "|    min| \\n#Eatingdisorde...|!!!!!! IMPORTANT ...|\n",
      "|    25%|                 0.0|                 0.0|\n",
      "|    50%|                 1.0|                 0.0|\n",
      "|    75%|                 3.0|                 1.0|\n",
      "|    max|… https://t.co/iR...|🪂We have had lot...|\n",
      "+-------+--------------------+--------------------+\n",
      "\n"
     ]
    },
    {
     "name": "stderr",
     "output_type": "stream",
     "text": [
      "\r",
      "                                                                                \r"
     ]
    }
   ],
   "source": [
    "edaw.select(\"Date\", \"tweet\").summary().show()"
   ]
  },
  {
   "cell_type": "code",
   "execution_count": 50,
   "id": "c271360b",
   "metadata": {},
   "outputs": [
    {
     "data": {
      "text/plain": [
       "148430"
      ]
     },
     "execution_count": 50,
     "metadata": {},
     "output_type": "execute_result"
    }
   ],
   "source": [
    "edaw.count()"
   ]
  },
  {
   "cell_type": "code",
   "execution_count": 26,
   "id": "e7920c5a",
   "metadata": {},
   "outputs": [],
   "source": [
    "import pandas as pd"
   ]
  },
  {
   "cell_type": "code",
   "execution_count": 28,
   "id": "1c6765ae",
   "metadata": {},
   "outputs": [],
   "source": [
    "df = pd.read_csv(\"/home/hduser/Desktop/Hadoop/EDAW.csv\")"
   ]
  },
  {
   "cell_type": "code",
   "execution_count": 31,
   "id": "f8d1fdc1",
   "metadata": {},
   "outputs": [
    {
     "name": "stdout",
     "output_type": "stream",
     "text": [
      "<class 'pandas.core.frame.DataFrame'>\n",
      "RangeIndex: 146394 entries, 0 to 146393\n",
      "Data columns (total 12 columns):\n",
      " #   Column        Non-Null Count   Dtype \n",
      "---  ------        --------------   ----- \n",
      " 0   Unnamed: 0    146394 non-null  int64 \n",
      " 1   Date          146394 non-null  object\n",
      " 2   ID            146394 non-null  int64 \n",
      " 3   url           146394 non-null  object\n",
      " 4   username      146394 non-null  object\n",
      " 5   source        146394 non-null  object\n",
      " 6   location      127014 non-null  object\n",
      " 7   tweet         146394 non-null  object\n",
      " 8   num_of_likes  146394 non-null  int64 \n",
      " 9   num_of_rt     146394 non-null  int64 \n",
      " 10  followers     146394 non-null  int64 \n",
      " 11  replies       146394 non-null  int64 \n",
      "dtypes: int64(6), object(6)\n",
      "memory usage: 13.4+ MB\n"
     ]
    }
   ],
   "source": [
    "df.info()"
   ]
  },
  {
   "cell_type": "code",
   "execution_count": 51,
   "id": "50cb111c",
   "metadata": {},
   "outputs": [
    {
     "data": {
      "text/html": [
       "<div>\n",
       "<style scoped>\n",
       "    .dataframe tbody tr th:only-of-type {\n",
       "        vertical-align: middle;\n",
       "    }\n",
       "\n",
       "    .dataframe tbody tr th {\n",
       "        vertical-align: top;\n",
       "    }\n",
       "\n",
       "    .dataframe thead th {\n",
       "        text-align: right;\n",
       "    }\n",
       "</style>\n",
       "<table border=\"1\" class=\"dataframe\">\n",
       "  <thead>\n",
       "    <tr style=\"text-align: right;\">\n",
       "      <th></th>\n",
       "      <th>Unnamed: 0</th>\n",
       "      <th>Date</th>\n",
       "      <th>ID</th>\n",
       "      <th>url</th>\n",
       "      <th>username</th>\n",
       "      <th>source</th>\n",
       "      <th>location</th>\n",
       "      <th>tweet</th>\n",
       "      <th>num_of_likes</th>\n",
       "      <th>num_of_rt</th>\n",
       "      <th>followers</th>\n",
       "      <th>replies</th>\n",
       "    </tr>\n",
       "  </thead>\n",
       "  <tbody>\n",
       "    <tr>\n",
       "      <th>0</th>\n",
       "      <td>0</td>\n",
       "      <td>2023-03-15 23:28:12+00:00</td>\n",
       "      <td>1636147315168927744</td>\n",
       "      <td>https://twitter.com/HibaJebeile/status/1636147...</td>\n",
       "      <td>HibaJebeile</td>\n",
       "      <td>Twitter Web App</td>\n",
       "      <td>Sydney, New South Wales</td>\n",
       "      <td>Grateful to be working with a fantastic group ...</td>\n",
       "      <td>19</td>\n",
       "      <td>4</td>\n",
       "      <td>1552</td>\n",
       "      <td>1</td>\n",
       "    </tr>\n",
       "    <tr>\n",
       "      <th>1</th>\n",
       "      <td>1</td>\n",
       "      <td>2023-03-15 23:24:30+00:00</td>\n",
       "      <td>1636146382770966528</td>\n",
       "      <td>https://twitter.com/Bfoundation/status/1636146...</td>\n",
       "      <td>Bfoundation</td>\n",
       "      <td>Twitter Web App</td>\n",
       "      <td>Australia</td>\n",
       "      <td>In this #podcast episode, we chat to Dr Beth S...</td>\n",
       "      <td>1</td>\n",
       "      <td>1</td>\n",
       "      <td>36483</td>\n",
       "      <td>0</td>\n",
       "    </tr>\n",
       "    <tr>\n",
       "      <th>2</th>\n",
       "      <td>2</td>\n",
       "      <td>2023-03-15 23:20:51+00:00</td>\n",
       "      <td>1636145465111752704</td>\n",
       "      <td>https://twitter.com/EdawIhap/status/1636145465...</td>\n",
       "      <td>EdawIhap</td>\n",
       "      <td>Twitter Web App</td>\n",
       "      <td>NaN</td>\n",
       "      <td>@JTRIII3 @_AndrewCallahan Another sulky Pats fan</td>\n",
       "      <td>1</td>\n",
       "      <td>0</td>\n",
       "      <td>1</td>\n",
       "      <td>0</td>\n",
       "    </tr>\n",
       "    <tr>\n",
       "      <th>3</th>\n",
       "      <td>3</td>\n",
       "      <td>2023-03-15 22:51:55+00:00</td>\n",
       "      <td>1636138183808393216</td>\n",
       "      <td>https://twitter.com/EdawTheGreat/status/163613...</td>\n",
       "      <td>EdawTheGreat</td>\n",
       "      <td>Twitter for iPhone</td>\n",
       "      <td>Lincoln, NE</td>\n",
       "      <td>This draft was God awful, and it was obvious f...</td>\n",
       "      <td>0</td>\n",
       "      <td>0</td>\n",
       "      <td>90</td>\n",
       "      <td>0</td>\n",
       "    </tr>\n",
       "    <tr>\n",
       "      <th>4</th>\n",
       "      <td>4</td>\n",
       "      <td>2023-03-15 22:25:12+00:00</td>\n",
       "      <td>1636131460401725441</td>\n",
       "      <td>https://twitter.com/EdawTheGreat/status/163613...</td>\n",
       "      <td>EdawTheGreat</td>\n",
       "      <td>Twitter for iPhone</td>\n",
       "      <td>Lincoln, NE</td>\n",
       "      <td>@miketankerr Or even better, it’s not a separa...</td>\n",
       "      <td>0</td>\n",
       "      <td>0</td>\n",
       "      <td>90</td>\n",
       "      <td>0</td>\n",
       "    </tr>\n",
       "    <tr>\n",
       "      <th>...</th>\n",
       "      <td>...</td>\n",
       "      <td>...</td>\n",
       "      <td>...</td>\n",
       "      <td>...</td>\n",
       "      <td>...</td>\n",
       "      <td>...</td>\n",
       "      <td>...</td>\n",
       "      <td>...</td>\n",
       "      <td>...</td>\n",
       "      <td>...</td>\n",
       "      <td>...</td>\n",
       "      <td>...</td>\n",
       "    </tr>\n",
       "    <tr>\n",
       "      <th>146389</th>\n",
       "      <td>146389</td>\n",
       "      <td>2017-01-01 11:01:54+00:00</td>\n",
       "      <td>815513373014130688</td>\n",
       "      <td>https://twitter.com/menshealthleeds/status/815...</td>\n",
       "      <td>menshealthleeds</td>\n",
       "      <td>Twitter Web Client</td>\n",
       "      <td>Yorkshire</td>\n",
       "      <td>The hidden, growing plight of eating disorders...</td>\n",
       "      <td>2</td>\n",
       "      <td>5</td>\n",
       "      <td>3739</td>\n",
       "      <td>0</td>\n",
       "    </tr>\n",
       "    <tr>\n",
       "      <th>146390</th>\n",
       "      <td>146390</td>\n",
       "      <td>2017-01-01 09:25:14+00:00</td>\n",
       "      <td>815489047284027393</td>\n",
       "      <td>https://twitter.com/CWP_EDS/status/81548904728...</td>\n",
       "      <td>CWP_EDS</td>\n",
       "      <td>Hootsuite</td>\n",
       "      <td>NaN</td>\n",
       "      <td>Happy New Year! Useful contact numbers, email ...</td>\n",
       "      <td>1</td>\n",
       "      <td>1</td>\n",
       "      <td>947</td>\n",
       "      <td>0</td>\n",
       "    </tr>\n",
       "    <tr>\n",
       "      <th>146391</th>\n",
       "      <td>146391</td>\n",
       "      <td>2017-01-01 00:51:00+00:00</td>\n",
       "      <td>815359637188919296</td>\n",
       "      <td>https://twitter.com/kopp_shannon/status/815359...</td>\n",
       "      <td>kopp_shannon</td>\n",
       "      <td>Buffer</td>\n",
       "      <td>Los Angeles, CA</td>\n",
       "      <td>It's time to leave the canyon... #edrecovery #...</td>\n",
       "      <td>3</td>\n",
       "      <td>0</td>\n",
       "      <td>8747</td>\n",
       "      <td>0</td>\n",
       "    </tr>\n",
       "    <tr>\n",
       "      <th>146392</th>\n",
       "      <td>146392</td>\n",
       "      <td>2017-01-01 00:40:09+00:00</td>\n",
       "      <td>815356906084716544</td>\n",
       "      <td>https://twitter.com/aedweb/status/815356906084...</td>\n",
       "      <td>aedweb</td>\n",
       "      <td>Hootsuite</td>\n",
       "      <td>Reston, VA</td>\n",
       "      <td>Check out &amp;amp; share the 9 Truths about #Eati...</td>\n",
       "      <td>1</td>\n",
       "      <td>1</td>\n",
       "      <td>13463</td>\n",
       "      <td>0</td>\n",
       "    </tr>\n",
       "    <tr>\n",
       "      <th>146393</th>\n",
       "      <td>146393</td>\n",
       "      <td>2017-01-01 00:05:12+00:00</td>\n",
       "      <td>815348109886640128</td>\n",
       "      <td>https://twitter.com/shannoncutts/status/815348...</td>\n",
       "      <td>shannoncutts</td>\n",
       "      <td>dlvr.it</td>\n",
       "      <td>Houston, TX, USA</td>\n",
       "      <td>Take a 'Virtual Walk' for Eating Disorders Awa...</td>\n",
       "      <td>0</td>\n",
       "      <td>0</td>\n",
       "      <td>1983</td>\n",
       "      <td>0</td>\n",
       "    </tr>\n",
       "  </tbody>\n",
       "</table>\n",
       "<p>146394 rows × 12 columns</p>\n",
       "</div>"
      ],
      "text/plain": [
       "        Unnamed: 0                       Date                   ID   \n",
       "0                0  2023-03-15 23:28:12+00:00  1636147315168927744  \\\n",
       "1                1  2023-03-15 23:24:30+00:00  1636146382770966528   \n",
       "2                2  2023-03-15 23:20:51+00:00  1636145465111752704   \n",
       "3                3  2023-03-15 22:51:55+00:00  1636138183808393216   \n",
       "4                4  2023-03-15 22:25:12+00:00  1636131460401725441   \n",
       "...            ...                        ...                  ...   \n",
       "146389      146389  2017-01-01 11:01:54+00:00   815513373014130688   \n",
       "146390      146390  2017-01-01 09:25:14+00:00   815489047284027393   \n",
       "146391      146391  2017-01-01 00:51:00+00:00   815359637188919296   \n",
       "146392      146392  2017-01-01 00:40:09+00:00   815356906084716544   \n",
       "146393      146393  2017-01-01 00:05:12+00:00   815348109886640128   \n",
       "\n",
       "                                                      url         username   \n",
       "0       https://twitter.com/HibaJebeile/status/1636147...      HibaJebeile  \\\n",
       "1       https://twitter.com/Bfoundation/status/1636146...      Bfoundation   \n",
       "2       https://twitter.com/EdawIhap/status/1636145465...         EdawIhap   \n",
       "3       https://twitter.com/EdawTheGreat/status/163613...     EdawTheGreat   \n",
       "4       https://twitter.com/EdawTheGreat/status/163613...     EdawTheGreat   \n",
       "...                                                   ...              ...   \n",
       "146389  https://twitter.com/menshealthleeds/status/815...  menshealthleeds   \n",
       "146390  https://twitter.com/CWP_EDS/status/81548904728...          CWP_EDS   \n",
       "146391  https://twitter.com/kopp_shannon/status/815359...     kopp_shannon   \n",
       "146392  https://twitter.com/aedweb/status/815356906084...           aedweb   \n",
       "146393  https://twitter.com/shannoncutts/status/815348...     shannoncutts   \n",
       "\n",
       "                    source                 location   \n",
       "0          Twitter Web App  Sydney, New South Wales  \\\n",
       "1          Twitter Web App                Australia   \n",
       "2          Twitter Web App                      NaN   \n",
       "3       Twitter for iPhone              Lincoln, NE   \n",
       "4       Twitter for iPhone              Lincoln, NE   \n",
       "...                    ...                      ...   \n",
       "146389  Twitter Web Client                Yorkshire   \n",
       "146390           Hootsuite                      NaN   \n",
       "146391              Buffer          Los Angeles, CA   \n",
       "146392           Hootsuite               Reston, VA   \n",
       "146393             dlvr.it         Houston, TX, USA   \n",
       "\n",
       "                                                    tweet  num_of_likes   \n",
       "0       Grateful to be working with a fantastic group ...            19  \\\n",
       "1       In this #podcast episode, we chat to Dr Beth S...             1   \n",
       "2        @JTRIII3 @_AndrewCallahan Another sulky Pats fan             1   \n",
       "3       This draft was God awful, and it was obvious f...             0   \n",
       "4       @miketankerr Or even better, it’s not a separa...             0   \n",
       "...                                                   ...           ...   \n",
       "146389  The hidden, growing plight of eating disorders...             2   \n",
       "146390  Happy New Year! Useful contact numbers, email ...             1   \n",
       "146391  It's time to leave the canyon... #edrecovery #...             3   \n",
       "146392  Check out &amp; share the 9 Truths about #Eati...             1   \n",
       "146393  Take a 'Virtual Walk' for Eating Disorders Awa...             0   \n",
       "\n",
       "        num_of_rt  followers  replies  \n",
       "0               4       1552        1  \n",
       "1               1      36483        0  \n",
       "2               0          1        0  \n",
       "3               0         90        0  \n",
       "4               0         90        0  \n",
       "...           ...        ...      ...  \n",
       "146389          5       3739        0  \n",
       "146390          1        947        0  \n",
       "146391          0       8747        0  \n",
       "146392          1      13463        0  \n",
       "146393          0       1983        0  \n",
       "\n",
       "[146394 rows x 12 columns]"
      ]
     },
     "execution_count": 51,
     "metadata": {},
     "output_type": "execute_result"
    }
   ],
   "source": [
    "df"
   ]
  },
  {
   "cell_type": "code",
   "execution_count": null,
   "id": "b1992e23",
   "metadata": {},
   "outputs": [],
   "source": []
  }
 ],
 "metadata": {
  "kernelspec": {
   "display_name": "Python 3 (ipykernel)",
   "language": "python",
   "name": "python3"
  },
  "language_info": {
   "codemirror_mode": {
    "name": "ipython",
    "version": 3
   },
   "file_extension": ".py",
   "mimetype": "text/x-python",
   "name": "python",
   "nbconvert_exporter": "python",
   "pygments_lexer": "ipython3",
   "version": "3.10.6"
  }
 },
 "nbformat": 4,
 "nbformat_minor": 5
}
